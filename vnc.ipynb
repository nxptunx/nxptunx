{
  "nbformat": 4,
  "nbformat_minor": 0,
  "metadata": {
    "colab": {
      "name": "vnc.ipynb",
      "provenance": [],
      "include_colab_link": true
    },
    "kernelspec": {
      "name": "python3",
      "display_name": "Python 3"
    }
  },
  "cells": [
    {
      "cell_type": "markdown",
      "metadata": {
        "id": "view-in-github",
        "colab_type": "text"
      },
      "source": [
        "<a href=\"https://colab.research.google.com/github/nxptunx/nxptunx/blob/main/vnc.ipynb\" target=\"_parent\"><img src=\"https://colab.research.google.com/assets/colab-badge.svg\" alt=\"Open In Colab\"/></a>"
      ]
    },
    {
      "cell_type": "code",
      "metadata": {
        "id": "WynQ1GXgxBsK",
        "outputId": "ca5f1f9c-46e9-48d5-c953-3a0e4552fcba",
        "colab": {
          "base_uri": "https://localhost:8080/"
        }
      },
      "source": [
        "%env NGROK_TOKEN=2XRsO7pqMZXYgSYOOXgd3DiUIp4_H6njeFPamc1bca8pnJ3r\n",
        "%env VNC_PASSWD=VNC123\n",
        "%env VNC_RESOLUTION=1280x800"
      ],
      "execution_count": 1,
      "outputs": [
        {
          "output_type": "stream",
          "name": "stdout",
          "text": [
            "env: NGROK_TOKEN=2XRsO7pqMZXYgSYOOXgd3DiUIp4_H6njeFPamc1bca8pnJ3r\n",
            "env: VNC_PASSWD=VNC123\n",
            "env: VNC_RESOLUTION=1280x800\n"
          ]
        }
      ]
    },
    {
      "cell_type": "code",
      "metadata": {
        "id": "4Y7UCs7kEjb-"
      },
      "source": [
        "%%bash\n",
        "apt update -qq > /dev/null 2>&1\n",
        "apt install -qq lxqt tightvncserver tmux jq > /dev/null 2>&1"
      ],
      "execution_count": null,
      "outputs": []
    },
    {
      "cell_type": "code",
      "metadata": {
        "id": "JK1-UeALFzeR"
      },
      "source": [
        "%%bash\n",
        "curl -sSL https://ngrok-agent.s3.amazonaws.com/ngrok.asc \\\n",
        "    | sudo tee /etc/apt/trusted.gpg.d/ngrok.asc >/dev/null \\\n",
        "    && echo \"deb https://ngrok-agent.s3.amazonaws.com buster main\" \\\n",
        "    | sudo tee /etc/apt/sources.list.d/ngrok.list \\\n",
        "    && sudo apt update \\\n",
        "    && sudo apt install ngrok"
      ],
      "execution_count": null,
      "outputs": []
    },
    {
      "cell_type": "code",
      "metadata": {
        "id": "4gB4sv_16oxw"
      },
      "source": [
        "%%bash\n",
        "export USER=root\n",
        "umask 077\n",
        "mkdir -p ~/.vnc\n",
        "echo $VNC_PASSWD | vncpasswd -f > ~/.vnc/passwd\n",
        "vncserver -kill :1 | vncserver -geometry $VNC_RESOLUTION"
      ],
      "execution_count": null,
      "outputs": []
    },
    {
      "cell_type": "code",
      "metadata": {
        "id": "gJH_UmIW8Pzk"
      },
      "source": [
        "!tmux new-session -d ngrok tcp 5901 --authtoken $NGROK_TOKEN --region ap"
      ],
      "execution_count": null,
      "outputs": []
    },
    {
      "cell_type": "code",
      "metadata": {
        "id": "6UQ9pxt4hf8J"
      },
      "source": [
        "!curl -s localhost:4040/api/tunnels/command_line | jq -r '.public_url'"
      ],
      "execution_count": null,
      "outputs": []
    }
  ]
}